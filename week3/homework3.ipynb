{
 "cells": [
  {
   "cell_type": "code",
   "execution_count": null,
   "metadata": {
    "collapsed": true
   },
   "outputs": [],
   "source": [
    "%load_ext autoreload\n",
    "%autoreload 2\n",
    "import numpy as np\n",
    "import matplotlib.pyplot as plt\n",
    "%matplotlib inline\n",
    "from IPython.display import clear_output\n",
    "\n",
    "#XVFB will be launched if you run on a server\n",
    "import os\n",
    "if type(os.environ.get(\"DISPLAY\")) is not str or len(os.environ.get(\"DISPLAY\"))==0:\n",
    "    !bash ../xvfb start\n",
    "    %env DISPLAY=:1"
   ]
  },
  {
   "cell_type": "markdown",
   "metadata": {},
   "source": [
    "## 1. Q-learning in the wild\n",
    "\n",
    "Here we use the qlearning agent from before on taxi env from openai gym.\n",
    "You will need to insert a few agent functions here."
   ]
  },
  {
   "cell_type": "code",
   "execution_count": null,
   "metadata": {
    "collapsed": false
   },
   "outputs": [],
   "source": [
    "import gym\n",
    "env = gym.make(\"Taxi-v2\")\n",
    "\n",
    "n_actions = env.action_space.n"
   ]
  },
  {
   "cell_type": "code",
   "execution_count": null,
   "metadata": {
    "collapsed": false
   },
   "outputs": [],
   "source": [
    "from qlearning import QLearningAgent\n",
    "\n",
    "agent = QLearningAgent(alpha=0.5,epsilon=0.25,discount=0.99,\n",
    "                       getLegalActions = lambda s: range(n_actions))"
   ]
  },
  {
   "cell_type": "code",
   "execution_count": null,
   "metadata": {
    "collapsed": true
   },
   "outputs": [],
   "source": [
    "def play_and_train(env,agent,t_max=10**4):\n",
    "    \"\"\"This function should \n",
    "    - run a full game, actions given by agent.getAction(s)\n",
    "    - train agent using agent.update(...) whenever possible\n",
    "    - return total reward\"\"\"\n",
    "    total_reward = 0.0\n",
    "    s = env.reset()\n",
    "    \n",
    "    for t in range(t_max):\n",
    "        a = #<get agent to pick action given state s>\n",
    "        \n",
    "        next_s,r,done,_ = env.step(a)\n",
    "        \n",
    "        #<train (update) agent for state s>\n",
    "        \n",
    "        s = next_s\n",
    "        total_reward +=r\n",
    "        if done:break\n",
    "        \n",
    "    return total_reward\n",
    "    \n",
    "        \n",
    "    "
   ]
  },
  {
   "cell_type": "code",
   "execution_count": null,
   "metadata": {
    "collapsed": false
   },
   "outputs": [],
   "source": [
    "rewards = []\n",
    "for i in range(1000):\n",
    "    rewards.append(play_and_train(env,agent))    \n",
    "    if i %100 ==0:\n",
    "        clear_output(True)\n",
    "        print \"mean reward\",np.mean(rewards[-100:])\n",
    "        plt.plot(rewards)\n",
    "        plt.show()\n",
    "        "
   ]
  },
  {
   "cell_type": "markdown",
   "metadata": {},
   "source": [
    "### 1.1 reducing epsilon\n",
    "\n",
    "Try decreasing agent epsilon over time to make him reach positive score.\n",
    "\n",
    "The straightforward way to do so is to reduce epsilon every N games:\n",
    "* either multiply agent.epsilon by a number less than 1 (e.g. 0.99)\n",
    "* or substract a small value until it reaches 0\n",
    "\n",
    "You can, of-course, devise other strategies.\n",
    "\n",
    "__The goal is to reach positive reward!__"
   ]
  },
  {
   "cell_type": "markdown",
   "metadata": {},
   "source": [
    "## 2. SARSA (2 pts)\n",
    "\n",
    "```<Please go to sarsa.py and implement the missing lines in update method>```"
   ]
  },
  {
   "cell_type": "code",
   "execution_count": null,
   "metadata": {
    "collapsed": true
   },
   "outputs": [],
   "source": [
    "from sarsa import SarsaAgent\n",
    "agent = <initialize SarsaAgent just like Q-learning agent>\n",
    "#Note that SARSA will likely need smaller learning rate!"
   ]
  },
  {
   "cell_type": "code",
   "execution_count": null,
   "metadata": {
    "collapsed": true
   },
   "outputs": [],
   "source": [
    "def play_and_train_sarsa(env,agent,t_max=10**4):\n",
    "    \"\"\"This function should \n",
    "    - run a full game, actions given by agent.getAction(s)\n",
    "    - train agent using agent.update(...) whenever possible\n",
    "    - return total reward\"\"\"\n",
    "    total_reward = 0.0\n",
    "    s = env.reset()\n",
    "    \n",
    "    for t in range(t_max):\n",
    "        a = #<get agent to pick action given state s>\n",
    "        \n",
    "        next_s,r,done,_ = env.step(a)\n",
    "        \n",
    "        #<train (update) agent for state s>\n",
    "        \n",
    "        s = next_s\n",
    "        total_reward +=r\n",
    "        if done:break\n",
    "        \n",
    "    return total_reward\n",
    "    \n",
    "        \n",
    "    "
   ]
  },
  {
   "cell_type": "code",
   "execution_count": null,
   "metadata": {
    "collapsed": true
   },
   "outputs": [],
   "source": [
    "rewards = []\n",
    "for i in range(1000):\n",
    "    rewards.append(play_and_train_sarsa(env,agent))    \n",
    "    if i %100 ==0:\n",
    "        clear_output(True)\n",
    "        print \"mean reward\",np.mean(rewards[-100:])\n",
    "        plt.plot(rewards)\n",
    "        plt.show()\n",
    "        "
   ]
  },
  {
   "cell_type": "markdown",
   "metadata": {
    "collapsed": true
   },
   "source": [
    "## 3. Continuous state space (2 pts)\n",
    "\n",
    "Use agent to train on CartPole-v0\n",
    "\n",
    "This environment has a continuous number of states, so you will have to group them into bins somehow.\n",
    "\n",
    "The simplest way is to use `round(x,n_digits)` (or numpy round) to round real number to a given amount of digits.\n",
    "\n",
    "The tricky part is to get the n_digits right for each state to train effectively.\n",
    "\n",
    "Note that you don't need to convert state to integers, but to __tuples__ of any kind of values."
   ]
  },
  {
   "cell_type": "code",
   "execution_count": null,
   "metadata": {
    "collapsed": false
   },
   "outputs": [],
   "source": [
    "env = gym.make(\"CartPole-v0\")\n",
    "n_actions = env.action_space.n\n",
    "\n",
    "print(\"first state:%s\"%(env.reset()))\n",
    "plt.imshow(env.render('rgb_array'))"
   ]
  },
  {
   "cell_type": "markdown",
   "metadata": {},
   "source": [
    "### Play a few games\n",
    "\n",
    "We need to estimate observation distributions. To do so, we'll play a few games and record all states."
   ]
  },
  {
   "cell_type": "code",
   "execution_count": null,
   "metadata": {
    "collapsed": false
   },
   "outputs": [],
   "source": [
    "all_states = []\n",
    "for _ in range(1000):\n",
    "    all_states.append(env.reset())\n",
    "    done = False\n",
    "    while not done:\n",
    "        s,r,done,_ = env.step(env.action_space.sample())\n",
    "        all_states.append(s)\n",
    "        if done:break\n",
    "            \n",
    "all_states = np.array(all_states)\n",
    "\n",
    "for obs_i in range(env.observation_space.shape[0]):\n",
    "    \n",
    "    plt.hist(all_states[:,obs_i],bins=20)\n",
    "    plt.show()"
   ]
  },
  {
   "cell_type": "markdown",
   "metadata": {},
   "source": [
    "## Binarize environment"
   ]
  },
  {
   "cell_type": "code",
   "execution_count": null,
   "metadata": {
    "collapsed": false
   },
   "outputs": [],
   "source": [
    "from gym.core import ObservationWrapper\n",
    "class Binarizer(ObservationWrapper):\n",
    "    \n",
    "    def _observation(self,state):    \n",
    "        \n",
    "        #state = <round state to some amount digits.>\n",
    "        #hint: you can do that with round(x,n_digits)\n",
    "        #you will need to pick a different n_digits for each dimension\n",
    "\n",
    "        return tuple(state)"
   ]
  },
  {
   "cell_type": "code",
   "execution_count": null,
   "metadata": {
    "collapsed": false
   },
   "outputs": [],
   "source": [
    "env = Binarizer(gym.make(\"CartPole-v0\"))"
   ]
  },
  {
   "cell_type": "code",
   "execution_count": null,
   "metadata": {
    "collapsed": false
   },
   "outputs": [],
   "source": [
    "all_states = []\n",
    "for _ in range(1000):\n",
    "    all_states.append(env.reset())\n",
    "    done = False\n",
    "    while not done:\n",
    "        s,r,done,_ = env.step(env.action_space.sample())\n",
    "        all_states.append(s)\n",
    "        if done:break\n",
    "            \n",
    "all_states = np.array(all_states)\n",
    "\n",
    "for obs_i in range(env.observation_space.shape[0]):\n",
    "    \n",
    "    plt.hist(all_states[:,obs_i],bins=20)\n",
    "    plt.show()"
   ]
  },
  {
   "cell_type": "markdown",
   "metadata": {},
   "source": [
    "## Learn"
   ]
  },
  {
   "cell_type": "code",
   "execution_count": null,
   "metadata": {
    "collapsed": true
   },
   "outputs": [],
   "source": [
    "from qlearning import QLearningAgent\n",
    "agent = QLearningAgent(alpha=0.5,epsilon=0.25,discount=0.99,\n",
    "                       getLegalActions = lambda s: range(n_actions))"
   ]
  },
  {
   "cell_type": "code",
   "execution_count": null,
   "metadata": {
    "collapsed": false
   },
   "outputs": [],
   "source": [
    "rewards = []\n",
    "for i in range(1000):\n",
    "    rewards.append(play_and_train(env,agent))    \n",
    "    if i %100 ==0:\n",
    "        clear_output(True)\n",
    "        print \"mean reward\",np.mean(rewards[-100:])\n",
    "        plt.plot(rewards)\n",
    "        plt.show()\n",
    "        "
   ]
  },
  {
   "cell_type": "markdown",
   "metadata": {},
   "source": [
    "## Homework\n",
    "\n",
    "## 4. Expected value SARSA (2 pts)\n",
    "\n",
    "```<go to expected_value_sarsa.py and implement missing lines in getValue(state)```"
   ]
  },
  {
   "cell_type": "code",
   "execution_count": null,
   "metadata": {
    "collapsed": true
   },
   "outputs": [],
   "source": [
    "import gym\n",
    "env = gym.make(\"Taxi-v2\")\n",
    "\n",
    "n_actions = env.action_space.n"
   ]
  },
  {
   "cell_type": "code",
   "execution_count": null,
   "metadata": {
    "collapsed": true
   },
   "outputs": [],
   "source": [
    "from expected_value_sarsa import EVSarsaAgent\n",
    "agent = EVSarsaAgent(alpha=0.5,epsilon=0.25,discount=0.99,\n",
    "                       getLegalActions = lambda s: range(n_actions))"
   ]
  },
  {
   "cell_type": "markdown",
   "metadata": {},
   "source": [
    "### Train EV-SARSA\n",
    "\n",
    "Note that it uses __the same update parameters as__ qlearning so you can use the ```play_and_train``` function from q-learning.\n",
    "\n",
    "Please try both constant epsilon = 0.25 and decreasing epsilon."
   ]
  },
  {
   "cell_type": "code",
   "execution_count": null,
   "metadata": {
    "collapsed": true
   },
   "outputs": [],
   "source": [
    "<your code here>"
   ]
  },
  {
   "cell_type": "markdown",
   "metadata": {},
   "source": [
    "## 4.2 EV-sarsa on CartPole\n",
    "\n",
    "Now train the `EVSarsaAgent` on CartPole-v0 env with binarizer you used above for Q-learning."
   ]
  },
  {
   "cell_type": "code",
   "execution_count": null,
   "metadata": {
    "collapsed": true
   },
   "outputs": [],
   "source": [
    "env = <make env and wrap it with binarizer>\n",
    "\n",
    "agent = <your code>"
   ]
  },
  {
   "cell_type": "code",
   "execution_count": null,
   "metadata": {
    "collapsed": true
   },
   "outputs": [],
   "source": [
    "<train me>"
   ]
  },
  {
   "cell_type": "markdown",
   "metadata": {},
   "source": [
    "# 5. Massive experiments\n",
    "\n",
    "This is the final part of the homework. You can pick any of the 3 tasks listed below. Or take more that one and get score for each of them independently.\n",
    "\n",
    "_If you feel to cool for this kind of school, see bonus section below - it awwards just as much points_"
   ]
  },
  {
   "cell_type": "markdown",
   "metadata": {},
   "source": [
    "###  Algorithm comparison (4 points)\n",
    "\n",
    "\n",
    "For this experiment, you will need to write the code to answer to compare algorithm performance and produce plots/tables with experimental results that can be used to compare them.\n",
    "\n",
    "Take CartPole or Taxi and compare learning performance of all 3 algorithms under those conditions:\n",
    "\n",
    "* Constant epsilon 0.25, 0.1 and 0.001\n",
    "* Decreasing epsilong starting from 0.25 (decrease any way you want)\n",
    "* It's probably a good idea to plot learning curves (reward / games played)\n",
    "* At the end of your assignment, please describe in which conditions does each algorithm work better (if at all).\n",
    "\n",
    "* It's also useful to double-check if experiment results are robust to re-running and if they aren't - average over several runs.\n",
    "* If you use CartPole-v0, use same binarization techniques.\n",
    "\n",
    "It is __highly recommended__ that your code automatically builds the plot or prints the table.\n",
    "\n",
    "A creative approach to visualization or trying out more ideas will be awwarded with bonus points.\n"
   ]
  },
  {
   "cell_type": "markdown",
   "metadata": {},
   "source": [
    "### Bonus I: Advanced algorithms (4+ points)\n",
    "\n",
    "Implement any of the three algorithms:\n",
    "* n-step expected value SARSA or Q-learning\n",
    "* EV-SARSA or Q-learning( using eligibility traces aka TD(lambda)\n",
    "* q-learning with experience replay\n",
    "\n",
    "_(you will likely need to create a new file for that, just like qlearning.py)_\n",
    "\n",
    "* Show that this algorithm works no worse than those we already implemented for simple problems. \n",
    "* Try to find a way to learn faster than with default q-learning.\n",
    "\n",
    "You will also get +2 points for each algorithm implemented after the first one and any other awesomeness you're up to.\n"
   ]
  },
  {
   "cell_type": "markdown",
   "metadata": {},
   "source": [
    "### Bonus II: Binarization techniques (4+ points total)"
   ]
  },
  {
   "cell_type": "markdown",
   "metadata": {},
   "source": [
    "Measure how learning performance depends on binarization and try some advanced binarizations.\n",
    "\n",
    "On CartPole-v0,\n",
    "* Measure learning speed and final performance against changing the amount of bins (uniformly across all dimensions) __(1 point)__\n",
    "* Try pre-processing observation with PCA, SparseCoding or any dimensionality reduction method you want, see what happens __(1 point)__\n",
    "\n",
    "* Apply binarization to solve MountainCar-v0 or LunarLander-v2 __(+2 points each)__\n",
    "\n",
    "_Warning, Mountaincar-v0 and LunarLander-v2 may train for ~hour. The only sanity check is that the frequency of successes more or less increases._\n"
   ]
  },
  {
   "cell_type": "markdown",
   "metadata": {},
   "source": [
    "### Bonus II+\n",
    "\n",
    "Try applying categorical deep autoencoder as a binarization technique.\n",
    "\n",
    "Use gumbel-softmax, \n",
    "* Explaination and [tutorial](http://blog.evjang.com/2016/11/tutorial-categorical-variational.html), \n",
    "* [Example in lasagne](https://gist.github.com/justheuristic/fd08c15dee26dbe95d3e3a17855f3f7a/)\n",
    "\n",
    "* If you make it work on Cartpole, it's +5. \n",
    "* If on LunarLander or MountainCar, it's +5 more.\n",
    "* If it somehow ends up good on Atari (see week1 homework) or BipedalWalker-v2 or anything serious, it's a full project ( more pts :) )\n",
    "* If you have any questions or need any help, feel free to ask us!\n"
   ]
  },
  {
   "cell_type": "code",
   "execution_count": null,
   "metadata": {
    "collapsed": true
   },
   "outputs": [],
   "source": []
  }
 ],
 "metadata": {
  "kernelspec": {
   "display_name": "Python [Root]",
   "language": "python",
   "name": "Python [Root]"
  },
  "language_info": {
   "codemirror_mode": {
    "name": "ipython",
    "version": 2
   },
   "file_extension": ".py",
   "mimetype": "text/x-python",
   "name": "python",
   "nbconvert_exporter": "python",
   "pygments_lexer": "ipython2",
   "version": "2.7.12"
  }
 },
 "nbformat": 4,
 "nbformat_minor": 0
}
