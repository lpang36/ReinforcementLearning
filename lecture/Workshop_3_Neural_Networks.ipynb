{
 "cells": [
  {
   "cell_type": "markdown",
   "metadata": {
    "colab_type": "text",
    "id": "nMshRWBVDPBh"
   },
   "source": [
    "# Introduction to Neural Networks #"
   ]
  },
  {
   "cell_type": "markdown",
   "metadata": {
    "colab_type": "text",
    "id": "blTnauO7lj32"
   },
   "source": [
    "Neural Networks is the forefront of today's Machine Learning research. In this workshop, I will be going over how Neural Networks work and I will run over a hands-on example of using a Neural Network for Reinforcement Learning."
   ]
  },
  {
   "cell_type": "markdown",
   "metadata": {
    "colab_type": "text",
    "id": "ZjaSsUyN6HMQ"
   },
   "source": [
    "## Reinforcement Learning\n",
    "\n",
    "Today we will be covering Q-learning, a specific type of learning that Google utilized back in 1900's.\n",
    "\n",
    "### What is it used for?\n",
    "* Playing Games (AI).\n",
    "* Time series analysis (financial strategies).\n",
    "* Robots (Manufacturing)\n",
    "* Learning partially observable environments. Most problems you can apply POMDP to.\n",
    "\n"
   ]
  },
  {
   "cell_type": "markdown",
   "metadata": {
    "colab_type": "text",
    "id": "GBb6BqgWE5pB"
   },
   "source": [
    "### How does it work?\n",
    "\n",
    "Q-learning is a specific type of Reinforcement learning with the following setup.\n",
    "\n",
    "\n",
    "---\n",
    "\n",
    "\n",
    "Input: Observations from the environment\n",
    "\n",
    "Output: Action to perform on the environment (optimal action-selection policy)\n",
    "\n",
    "What it learns: Learns the expected reward of a performing an action on a given state. We call these expected values \"policies\".\n",
    "\n",
    "\n",
    "\n",
    "---\n",
    "\n",
    "This may seem confusing, let's work through our example first.\n"
   ]
  },
  {
   "cell_type": "markdown",
   "metadata": {
    "colab_type": "text",
    "id": "UExv4BgrMjcW"
   },
   "source": [
    "In this case, at every position that the cart is in, we feed the x and y coordinates to the Neural Network as input.\n",
    "\n",
    "Then, Neural Network produces a value, which is the expected action to take on the environment given this x and y."
   ]
  },
  {
   "cell_type": "markdown",
   "metadata": {
    "colab_type": "text",
    "id": "iUOlwmaHo3ZR"
   },
   "source": [
    "## Installing Dependencies"
   ]
  },
  {
   "cell_type": "markdown",
   "metadata": {
    "colab_type": "text",
    "id": "rXR15GjJl8Ft"
   },
   "source": [
    "First off, let's import our libraries."
   ]
  },
  {
   "cell_type": "code",
   "execution_count": 1,
   "metadata": {
    "cellView": "both",
    "colab": {
     "autoexec": {
      "startup": false,
      "wait_interval": 0
     }
    },
    "colab_type": "code",
    "id": "SHOfKTqTDAJl"
   },
   "outputs": [],
   "source": [
    "# Import libraries\n",
    "import matplotlib.pyplot as plt\n",
    "import random\n",
    "import pandas as pd\n",
    "import tensorflow as tf\n",
    "import numpy as np\n",
    "import random"
   ]
  },
  {
   "cell_type": "markdown",
   "metadata": {
    "colab_type": "text",
    "id": "vdh8zv7Ck-YD"
   },
   "source": [
    "### Installing OpenAI's gym\n",
    "Today, we will be using OpenAI's gym environment. To install on your computer, run 'pip install gym' on your command line (highly recommended!). You should also ensure you have OpenGL installed on your computer."
   ]
  },
  {
   "cell_type": "code",
   "execution_count": 2,
   "metadata": {
    "cellView": "both",
    "colab": {
     "autoexec": {
      "startup": false,
      "wait_interval": 0
     }
    },
    "colab_type": "code",
    "id": "lr7hzf7QlIRH"
   },
   "outputs": [
    {
     "name": "stdout",
     "output_type": "stream",
     "text": [
      "E: Could not open lock file /var/lib/dpkg/lock - open (13: Permission denied)\n",
      "E: Unable to lock the administration directory (/var/lib/dpkg/), are you root?\n",
      "Requirement already satisfied: gym in /usr/local/lib/python2.7/dist-packages\n",
      "Requirement already satisfied: numpy>=1.10.4 in /home/lpang/.local/lib/python2.7/site-packages (from gym)\n",
      "Requirement already satisfied: requests>=2.0 in /usr/local/lib/python2.7/dist-packages (from gym)\n",
      "Requirement already satisfied: six in /usr/local/lib/python2.7/dist-packages (from gym)\n",
      "Requirement already satisfied: pyglet>=1.2.0 in /usr/local/lib/python2.7/dist-packages (from gym)\n",
      "Requirement already satisfied: urllib3<1.23,>=1.21.1 in /usr/local/lib/python2.7/dist-packages (from requests>=2.0->gym)\n",
      "Requirement already satisfied: idna<2.7,>=2.5 in /usr/local/lib/python2.7/dist-packages (from requests>=2.0->gym)\n",
      "Requirement already satisfied: chardet<3.1.0,>=3.0.2 in /usr/local/lib/python2.7/dist-packages (from requests>=2.0->gym)\n",
      "Requirement already satisfied: certifi>=2017.4.17 in /usr/local/lib/python2.7/dist-packages (from requests>=2.0->gym)\n",
      "\u001b[33mYou are using pip version 9.0.1, however version 9.0.3 is available.\n",
      "You should consider upgrading via the 'pip install --upgrade pip' command.\u001b[0m\n"
     ]
    }
   ],
   "source": [
    "# Run this if you do not have opengl\n",
    "!apt-get install python-opengl\n",
    "# Run this to install OpenAI gym\n",
    "!pip install gym\n",
    "import gym"
   ]
  },
  {
   "cell_type": "markdown",
   "metadata": {
    "colab_type": "text",
    "id": "fCcESxz4o_nE"
   },
   "source": [
    "## Exploring the Environment"
   ]
  },
  {
   "cell_type": "markdown",
   "metadata": {
    "colab_type": "text",
    "id": "XcWtXx7uotoe"
   },
   "source": [
    "Great, now that we have installed gym, let's try to explore what it does. \n",
    "\n",
    "First, let's load the environment called 'MountainCarContinuous-v0' and call reset() to initialize our setup."
   ]
  },
  {
   "cell_type": "code",
   "execution_count": 83,
   "metadata": {
    "colab": {
     "autoexec": {
      "startup": false,
      "wait_interval": 0
     }
    },
    "colab_type": "code",
    "id": "jcB-ZmJw_JH5"
   },
   "outputs": [],
   "source": [
    "env = gym.make('CartPole-v1')\n",
    "env.reset()\n",
    "random.seed()"
   ]
  },
  {
   "cell_type": "markdown",
   "metadata": {
    "colab_type": "text",
    "id": "bUL5RVV6_Ls6"
   },
   "source": [
    "For every action on the environment, the environment provides us a list of fields, called observations that results from the action we took.\n",
    "\n",
    "Let's take 5 actions and observe what we get back from the environment."
   ]
  },
  {
   "cell_type": "code",
   "execution_count": 84,
   "metadata": {
    "colab": {
     "autoexec": {
      "startup": false,
      "wait_interval": 0
     }
    },
    "colab_type": "code",
    "id": "zrBvY-jBmwnQ"
   },
   "outputs": [
    {
     "name": "stdout",
     "output_type": "stream",
     "text": [
      "STEP 0: We took an action 1 and got back:\n",
      "Observation [-0.00127133  0.15222066 -0.03382395 -0.30086922]\n",
      "Reward: 1.0 \n",
      "\n",
      "STEP 1: We took an action 0 and got back:\n",
      "Observation [ 0.00177308 -0.04240328 -0.03984134 -0.01904264]\n",
      "Reward: 1.0 \n",
      "\n",
      "STEP 2: We took an action 1 and got back:\n",
      "Observation [ 0.00092502  0.15326672 -0.04022219 -0.32402498]\n",
      "Reward: 1.0 \n",
      "\n",
      "STEP 3: We took an action 1 and got back:\n",
      "Observation [ 0.00399035  0.34893763 -0.04670269 -0.62911609]\n",
      "Reward: 1.0 \n",
      "\n",
      "STEP 4: We took an action 0 and got back:\n",
      "Observation [ 0.0109691   0.15449747 -0.05928501 -0.35149947]\n",
      "Reward: 1.0 \n",
      "\n"
     ]
    }
   ],
   "source": [
    "for step in range(5):\n",
    "    action = env.action_space.sample()   # Generate a random action\n",
    "    \n",
    "    # Apply the predicted step onto the environment.\n",
    "    # Receive back a observation, reward, done flag, and extra information\n",
    "    obs1,reward,done,_ = env.step(action)\n",
    "    \n",
    "    print(\"STEP {}: We took an action {} and got back:\".format(step,action))\n",
    "    print(\"Observation {}\".format(obs1))\n",
    "    print(\"Reward: {} \\n\".format(reward))"
   ]
  },
  {
   "cell_type": "markdown",
   "metadata": {
    "colab_type": "text",
    "id": "4lR65UEH27Ml"
   },
   "source": [
    "**Note**: *The input is an array of one element*\n",
    "\n",
    "What does this mean? Well, for every action we've taken, we got back the parameters for the new state of the environment. We call these \"Observations\". Along with the observations, we are given a \"Reward\".\n",
    "\n",
    "\n",
    "---\n",
    "\n",
    "\n",
    "### Question: \n",
    "Why is Observation a matrix of dimension 4? What does each element in this matrix represent?\n",
    "\n",
    "\n",
    "---\n",
    "\n",
    "\n",
    "We will use the Observations as inputs to our Neural Network and we will use the Rewards for the loss function!\n",
    "\n",
    "We can use the following commands to find the maximum Action values and maximum Observation values."
   ]
  },
  {
   "cell_type": "code",
   "execution_count": 85,
   "metadata": {
    "colab": {
     "autoexec": {
      "startup": false,
      "wait_interval": 0
     }
    },
    "colab_type": "code",
    "id": "LFPR-TNdDgF_"
   },
   "outputs": [
    {
     "name": "stdout",
     "output_type": "stream",
     "text": [
      "Discrete(2)\n",
      "[  4.80000000e+00   3.40282347e+38   4.18879020e-01   3.40282347e+38]\n",
      "[ -4.80000000e+00  -3.40282347e+38  -4.18879020e-01  -3.40282347e+38]\n"
     ]
    }
   ],
   "source": [
    "print(env.action_space)\n",
    "\n",
    "print(env.observation_space.high)\n",
    "print(env.observation_space.low)"
   ]
  },
  {
   "cell_type": "markdown",
   "metadata": {
    "colab_type": "text",
    "id": "jzELDPhGD2US"
   },
   "source": [
    "Great, now we know the bound of our action: {0, 1} and the expected values for our observation!"
   ]
  },
  {
   "cell_type": "markdown",
   "metadata": {
    "colab_type": "text",
    "id": "_FGXGjoxpE6X"
   },
   "source": [
    "## Creating our Neural Network"
   ]
  },
  {
   "cell_type": "markdown",
   "metadata": {
    "colab_type": "text",
    "id": "TBfFu36G7Tcv"
   },
   "source": [
    "Let's start to create our Neural Network. First, let's get some variables from the environment.\n",
    "\n",
    "We can use this to determine how many input nodes we need and how many output nodes we need."
   ]
  },
  {
   "cell_type": "code",
   "execution_count": 426,
   "metadata": {
    "colab": {
     "autoexec": {
      "startup": false,
      "wait_interval": 0
     }
    },
    "colab_type": "code",
    "id": "-LAKN_Km7bq2"
   },
   "outputs": [
    {
     "name": "stdout",
     "output_type": "stream",
     "text": [
      "(4,)\n",
      "()\n"
     ]
    }
   ],
   "source": [
    "print(env.observation_space.shape)\n",
    "INPUTSIZE = 4\n",
    "\n",
    "print(env.action_space.shape)\n",
    "OUTPUTSIZE = 2\n",
    "\n",
    "# Size of hidden layers\n",
    "HIDDENSIZE=10"
   ]
  },
  {
   "cell_type": "markdown",
   "metadata": {
    "colab_type": "text",
    "id": "VPYTeH6_-N6w"
   },
   "source": [
    "Tensorflow helps us build a graph of our Neural Network before we train the network. To start, let's reset the tensorflow graph."
   ]
  },
  {
   "cell_type": "code",
   "execution_count": 427,
   "metadata": {
    "colab": {
     "autoexec": {
      "startup": false,
      "wait_interval": 0
     }
    },
    "colab_type": "code",
    "id": "INENWVC5-lSh"
   },
   "outputs": [],
   "source": [
    "tf.reset_default_graph()"
   ]
  },
  {
   "cell_type": "markdown",
   "metadata": {
    "colab_type": "text",
    "id": "K0hHezQo-oU2"
   },
   "source": [
    "### Input Layer:\n",
    "\n",
    "Next, let's use the function `tf.placeholder(dtype, shape)` to create our input layer. Notice that the shape of the input layer is: 1 x 2 (or 1 x `INPUTSIZE`)."
   ]
  },
  {
   "cell_type": "code",
   "execution_count": 428,
   "metadata": {
    "colab": {
     "autoexec": {
      "startup": false,
      "wait_interval": 0
     }
    },
    "colab_type": "code",
    "id": "wy9H3LIl_Oip"
   },
   "outputs": [],
   "source": [
    "inputs = tf.placeholder(tf.float32, shape=(1,INPUTSIZE))"
   ]
  },
  {
   "cell_type": "markdown",
   "metadata": {
    "colab_type": "text",
    "id": "zxP9k_7r_R3Z"
   },
   "source": [
    "### Hidden Layers:\n",
    "\n",
    "Now let's create the weights and bias to connect the input and the first hiddlen layer. Let's first declare our variables."
   ]
  },
  {
   "cell_type": "code",
   "execution_count": 429,
   "metadata": {
    "colab": {
     "autoexec": {
      "startup": false,
      "wait_interval": 0
     }
    },
    "colab_type": "code",
    "id": "uhgQkC6h_Noz"
   },
   "outputs": [],
   "source": [
    "W1 = tf.get_variable(\"W1\", shape=[INPUTSIZE, HIDDENSIZE], initializer=tf.contrib.layers.xavier_initializer())   # A 2 x 10 layer\n",
    "b1 = tf.Variable(tf.zeros(HIDDENSIZE))   # Initialize bias with 0"
   ]
  },
  {
   "cell_type": "markdown",
   "metadata": {
    "colab_type": "text",
    "id": "HyZw2BFfANq7"
   },
   "source": [
    "Let's add both `W1` and `b1` together in a layer and call it `layer1`. \n",
    "\n",
    "`tf.matmul` multiplies inputs and W1 together. `tf.nn.relu` applies the Rectified Linear function to the equation."
   ]
  },
  {
   "cell_type": "code",
   "execution_count": 430,
   "metadata": {
    "colab": {
     "autoexec": {
      "startup": false,
      "wait_interval": 0
     }
    },
    "colab_type": "code",
    "id": "3UTAJ3zSANEh"
   },
   "outputs": [],
   "source": [
    "layer1 = tf.nn.relu(tf.matmul(inputs, W1)+b1)   # Use ReLU activation function"
   ]
  },
  {
   "cell_type": "markdown",
   "metadata": {
    "colab_type": "text",
    "id": "QkFwOEslB6nz"
   },
   "source": [
    "Now let's do the same thing with the second layer. This time, the size of the layer is 10x10. In otherwords, `INPUTSIZE` x `INPUTSIZE`"
   ]
  },
  {
   "cell_type": "code",
   "execution_count": 431,
   "metadata": {
    "colab": {
     "autoexec": {
      "startup": false,
      "wait_interval": 0
     }
    },
    "colab_type": "code",
    "id": "qIncEStnCAFh"
   },
   "outputs": [],
   "source": [
    "W2 = tf.get_variable(\"W2\", shape=[HIDDENSIZE, HIDDENSIZE], initializer=tf.contrib.layers.xavier_initializer())\n",
    "b2 = tf.Variable(tf.zeros(HIDDENSIZE))\n",
    "layer2 = tf.nn.relu(tf.matmul(layer1, W2) + b2)\n",
    "\n",
    "W3 = tf.get_variable(\"W3\", shape=[HIDDENSIZE, HIDDENSIZE], initializer=tf.contrib.layers.xavier_initializer())\n",
    "b3 = tf.Variable(tf.zeros(HIDDENSIZE))\n",
    "layer3 = tf.nn.relu(tf.matmul(layer2,W3)+b3)"
   ]
  },
  {
   "cell_type": "markdown",
   "metadata": {
    "colab_type": "text",
    "id": "EP4E-breCotl"
   },
   "source": [
    "### Output Layer:\n",
    "\n",
    "Now it's time to create our output layer of size 10 x 1."
   ]
  },
  {
   "cell_type": "code",
   "execution_count": 432,
   "metadata": {
    "colab": {
     "autoexec": {
      "startup": false,
      "wait_interval": 0
     }
    },
    "colab_type": "code",
    "id": "xXcupsdrCs0y"
   },
   "outputs": [],
   "source": [
    "W4 = tf.get_variable(\"W4\", shape=[HIDDENSIZE, OUTPUTSIZE], initializer=tf.contrib.layers.xavier_initializer())\n",
    "layer_out= tf.matmul(layer3, W4)"
   ]
  },
  {
   "cell_type": "markdown",
   "metadata": {
    "colab_type": "text",
    "id": "MAiSm7jjDHi3"
   },
   "source": [
    "The last layer, `layer_out` will produce a value, however, not neccessarily an action. We apply argmax, to get the index of action of the largest expected reward."
   ]
  },
  {
   "cell_type": "code",
   "execution_count": 433,
   "metadata": {
    "colab": {
     "autoexec": {
      "startup": false,
      "wait_interval": 0
     }
    },
    "colab_type": "code",
    "id": "MWMPkGOZDK6F"
   },
   "outputs": [],
   "source": [
    "# Output: returns a value either 0 or 1\n",
    "predict = tf.argmax(layer_out,1)"
   ]
  },
  {
   "cell_type": "markdown",
   "metadata": {
    "colab_type": "text",
    "id": "PUx6dq9PXzoD"
   },
   "source": [
    "This prediction will be what we feed into the environment to get the next Observation!\n",
    "\n",
    "\n",
    "---\n",
    "\n",
    "\n",
    "After each action, we receive the reward from the environment. With the reward, we need to define a loss function to evaluate our Neural Network's performance.\n",
    "Here we will use least squares for our loss function. There are other loss functions that we can use."
   ]
  },
  {
   "cell_type": "code",
   "execution_count": 434,
   "metadata": {
    "colab": {
     "autoexec": {
      "startup": false,
      "wait_interval": 0
     }
    },
    "colab_type": "code",
    "id": "Jx0i_JLOC6Ku"
   },
   "outputs": [],
   "source": [
    "rewardQ = tf.placeholder(shape=[1,OUTPUTSIZE],dtype=tf.float32)\n",
    "loss = tf.losses.mean_squared_error(rewardQ, layer_out)"
   ]
  },
  {
   "cell_type": "markdown",
   "metadata": {
    "colab_type": "text",
    "id": "xgn2WYZY-DAp"
   },
   "source": [
    "Now, let's are declare our optimizer. A good choice in optimizer and learning rate can affect the time it takes to converge. Here we will use the Adam Optimizer, which is an optimizer extended from gradient descent. In practice, AdamOptimizer generally performs better than GradientDescentOptimizer. We also declare updateModel so we can have tensorflow minimize the loss function w.r.t. the optimizer."
   ]
  },
  {
   "cell_type": "code",
   "execution_count": 541,
   "metadata": {
    "colab": {
     "autoexec": {
      "startup": false,
      "wait_interval": 0
     }
    },
    "colab_type": "code",
    "id": "OLGFNns3-DAq"
   },
   "outputs": [],
   "source": [
    "trainer = tf.train.AdamOptimizer(learning_rate=0.01)\n",
    "updateModel = trainer.minimize(loss)"
   ]
  },
  {
   "cell_type": "markdown",
   "metadata": {
    "colab_type": "text",
    "id": "YKq_2wJV-DAr"
   },
   "source": [
    "Finally, let's declare a initializer. `init` will activate the initializers in all the variables."
   ]
  },
  {
   "cell_type": "code",
   "execution_count": 542,
   "metadata": {
    "colab": {
     "autoexec": {
      "startup": false,
      "wait_interval": 0
     }
    },
    "colab_type": "code",
    "id": "guMSDE1w-DAr"
   },
   "outputs": [],
   "source": [
    "# Initialize the weights and biases\n",
    "init = tf.global_variables_initializer()"
   ]
  },
  {
   "cell_type": "markdown",
   "metadata": {
    "colab_type": "text",
    "id": "X-8f8EV5AJgj"
   },
   "source": [
    "## Training the Network"
   ]
  },
  {
   "cell_type": "markdown",
   "metadata": {
    "colab_type": "text",
    "id": "ttw7iXVl-DAt"
   },
   "source": [
    "Now, we can train our Neural Network.\n",
    "\n",
    "First, let's set a few parameters for our Neural Network."
   ]
  },
  {
   "cell_type": "code",
   "execution_count": 543,
   "metadata": {
    "colab": {
     "autoexec": {
      "startup": false,
      "wait_interval": 0
     }
    },
    "colab_type": "code",
    "id": "8x0qOUmr-DAt"
   },
   "outputs": [],
   "source": [
    "# Set learning parameters\n",
    "gamma = 0.99\n",
    "epsilon = 0.2\n",
    "decay = 0.95\n",
    "num_episodes = 500\n",
    "maxsteps = 500\n",
    "\n",
    "# For graphing rewards\n",
    "rList=[]"
   ]
  },
  {
   "cell_type": "markdown",
   "metadata": {
    "colab_type": "text",
    "id": "1EkkWP9f-DAv"
   },
   "source": [
    "We create a new Tensorflow session. These session instances keep track of things like Variables specific to the session."
   ]
  },
  {
   "cell_type": "code",
   "execution_count": 544,
   "metadata": {
    "colab": {
     "autoexec": {
      "startup": false,
      "wait_interval": 0
     }
    },
    "colab_type": "code",
    "id": "wOfcLsVN-DAv"
   },
   "outputs": [],
   "source": [
    "sess = tf.Session()"
   ]
  },
  {
   "cell_type": "markdown",
   "metadata": {
    "colab_type": "text",
    "id": "zBWKpwQH-DAx"
   },
   "source": [
    "As an example, let's use sess to call `init` and initialize our weights."
   ]
  },
  {
   "cell_type": "code",
   "execution_count": 545,
   "metadata": {
    "colab": {
     "autoexec": {
      "startup": false,
      "wait_interval": 0
     }
    },
    "colab_type": "code",
    "id": "GF5cq4xt-DAx"
   },
   "outputs": [],
   "source": [
    "sess.run(init)"
   ]
  },
  {
   "cell_type": "markdown",
   "metadata": {
    "colab_type": "text",
    "id": "ce7AanUj-DAz"
   },
   "source": [
    "Great! Now all the weights are randomly assigned. Now, we can train our network."
   ]
  },
  {
   "cell_type": "code",
   "execution_count": 546,
   "metadata": {
    "colab": {
     "autoexec": {
      "startup": false,
      "wait_interval": 0
     }
    },
    "colab_type": "code",
    "id": "1bwVahrW-DAz"
   },
   "outputs": [],
   "source": [
    "obs=env.reset()\n",
    "rAll, steps = 0, 0\n",
    "done = False\n",
    "while steps < maxsteps:\n",
    "    # Run the network with obs, and received the values for predict and layer_out\n",
    "    action, actionQs = sess.run([predict, layer_out], feed_dict={inputs:obs.reshape(1,INPUTSIZE)})\n",
    "\n",
    "    # Epsilon greedy exploration\n",
    "    if np.random.rand(1) < epsilon*(decay**steps):\n",
    "        action[0] = env.action_space.sample()\n",
    "\n",
    "    # Apply the predicted step onto the environment.\n",
    "    # Receive back a observation, reward, done flag, and information\n",
    "    next_obs,reward,done,_ = env.step(action[0])\n",
    "\n",
    "    # Evaluate the neural network on next_obs: the observation after the action\n",
    "    evalQ = sess.run(layer_out, feed_dict={inputs:next_obs.reshape(1,INPUTSIZE)})\n",
    "    \n",
    "    #Take the largest value of all the next Q(s',a') values\n",
    "    max_evalQ = np.max(evalQ)\n",
    "    # Grab the old Q function\n",
    "    targetQ = actionQs\n",
    "    \n",
    "    # Update the (old) Q(s,a) value\n",
    "    if done:\n",
    "        targetQ[0,action[0]] = reward\n",
    "    else:\n",
    "        targetQ[0,action[0]] = reward + gamma*max_evalQ\n",
    "\n",
    "    # This will train our network with the update Q(s,a) value\n",
    "    # and update the weights once every episode.\n",
    "    sess.run(updateModel, feed_dict={inputs:obs.reshape(1,INPUTSIZE),rewardQ:targetQ})\n",
    "    # Change the state s=s'\n",
    "    obs=next_obs\n",
    "\n",
    "    # Add to the steps and record the reward for graphs\n",
    "    steps += reward\n",
    "    if done:\n",
    "        rAll += steps\n",
    "        rList.append(rAll)\n",
    "        break;"
   ]
  },
  {
   "cell_type": "markdown",
   "metadata": {
    "colab_type": "text",
    "id": "cB6gHJim-DA1"
   },
   "source": [
    "Cool! Let's see how it did."
   ]
  },
  {
   "cell_type": "code",
   "execution_count": 547,
   "metadata": {
    "colab": {
     "autoexec": {
      "startup": false,
      "wait_interval": 0
     }
    },
    "colab_type": "code",
    "id": "JTiYhd8r-DA1"
   },
   "outputs": [
    {
     "name": "stdout",
     "output_type": "stream",
     "text": [
      "Episode: 1 Steps: 12.0\n"
     ]
    }
   ],
   "source": [
    "print(\"Episode: 1 Steps: \"+str(steps))"
   ]
  },
  {
   "cell_type": "markdown",
   "metadata": {
    "colab_type": "text",
    "id": "-EGUf07k-DA4"
   },
   "source": [
    "More than likely, the neural network did not perform very well! Let's try to hit 500 steps by training it for 500 more iteraions."
   ]
  },
  {
   "cell_type": "code",
   "execution_count": 548,
   "metadata": {
    "colab": {
     "autoexec": {
      "startup": false,
      "wait_interval": 0
     }
    },
    "colab_type": "code",
    "id": "FVFoYZso-DA4"
   },
   "outputs": [
    {
     "name": "stdout",
     "output_type": "stream",
     "text": [
      "Episode: 0/500 Steps: 10.0\n",
      "Episode: 1/500 Steps: 10.0\n",
      "Episode: 2/500 Steps: 11.0\n",
      "Episode: 3/500 Steps: 11.0\n",
      "Episode: 4/500 Steps: 12.0\n",
      "Episode: 5/500 Steps: 13.0\n",
      "Episode: 6/500 Steps: 8.0\n",
      "Episode: 7/500 Steps: 12.0\n",
      "Episode: 8/500 Steps: 10.0\n",
      "Episode: 9/500 Steps: 27.0\n",
      "Episode: 10/500 Steps: 10.0\n",
      "Episode: 11/500 Steps: 11.0\n",
      "Episode: 12/500 Steps: 15.0\n",
      "Episode: 13/500 Steps: 11.0\n",
      "Episode: 14/500 Steps: 9.0\n",
      "Episode: 15/500 Steps: 12.0\n",
      "Episode: 16/500 Steps: 10.0\n",
      "Episode: 17/500 Steps: 10.0\n",
      "Episode: 18/500 Steps: 11.0\n",
      "Episode: 19/500 Steps: 10.0\n",
      "Episode: 20/500 Steps: 9.0\n",
      "Episode: 21/500 Steps: 10.0\n",
      "Episode: 22/500 Steps: 9.0\n",
      "Episode: 23/500 Steps: 9.0\n",
      "Episode: 24/500 Steps: 13.0\n",
      "Episode: 25/500 Steps: 9.0\n",
      "Episode: 26/500 Steps: 9.0\n",
      "Episode: 27/500 Steps: 13.0\n",
      "Episode: 28/500 Steps: 9.0\n",
      "Episode: 29/500 Steps: 10.0\n",
      "Episode: 30/500 Steps: 10.0\n",
      "Episode: 31/500 Steps: 10.0\n",
      "Episode: 32/500 Steps: 9.0\n",
      "Episode: 33/500 Steps: 10.0\n",
      "Episode: 34/500 Steps: 11.0\n",
      "Episode: 35/500 Steps: 9.0\n",
      "Episode: 36/500 Steps: 10.0\n",
      "Episode: 37/500 Steps: 9.0\n",
      "Episode: 38/500 Steps: 9.0\n",
      "Episode: 39/500 Steps: 11.0\n",
      "Episode: 40/500 Steps: 9.0\n",
      "Episode: 41/500 Steps: 12.0\n",
      "Episode: 42/500 Steps: 11.0\n",
      "Episode: 43/500 Steps: 11.0\n",
      "Episode: 44/500 Steps: 9.0\n",
      "Episode: 45/500 Steps: 11.0\n",
      "Episode: 46/500 Steps: 9.0\n",
      "Episode: 47/500 Steps: 11.0\n",
      "Episode: 48/500 Steps: 13.0\n",
      "Episode: 49/500 Steps: 11.0\n",
      "Episode: 50/500 Steps: 10.0\n",
      "Episode: 51/500 Steps: 13.0\n",
      "Episode: 52/500 Steps: 10.0\n",
      "Episode: 53/500 Steps: 9.0\n",
      "Episode: 54/500 Steps: 13.0\n",
      "Episode: 55/500 Steps: 9.0\n",
      "Episode: 56/500 Steps: 11.0\n",
      "Episode: 57/500 Steps: 9.0\n",
      "Episode: 58/500 Steps: 8.0\n",
      "Episode: 59/500 Steps: 9.0\n",
      "Episode: 60/500 Steps: 10.0\n",
      "Episode: 61/500 Steps: 9.0\n",
      "Episode: 62/500 Steps: 10.0\n",
      "Episode: 63/500 Steps: 11.0\n",
      "Episode: 64/500 Steps: 10.0\n",
      "Episode: 65/500 Steps: 10.0\n",
      "Episode: 66/500 Steps: 8.0\n",
      "Episode: 67/500 Steps: 9.0\n",
      "Episode: 68/500 Steps: 9.0\n",
      "Episode: 69/500 Steps: 9.0\n",
      "Episode: 70/500 Steps: 9.0\n",
      "Episode: 71/500 Steps: 14.0\n",
      "Episode: 72/500 Steps: 9.0\n",
      "Episode: 73/500 Steps: 13.0\n",
      "Episode: 74/500 Steps: 11.0\n",
      "Episode: 75/500 Steps: 11.0\n",
      "Episode: 76/500 Steps: 10.0\n",
      "Episode: 77/500 Steps: 12.0\n",
      "Episode: 78/500 Steps: 10.0\n",
      "Episode: 79/500 Steps: 12.0\n",
      "Episode: 80/500 Steps: 13.0\n",
      "Episode: 81/500 Steps: 10.0\n",
      "Episode: 82/500 Steps: 10.0\n",
      "Episode: 83/500 Steps: 9.0\n",
      "Episode: 84/500 Steps: 11.0\n",
      "Episode: 85/500 Steps: 11.0\n",
      "Episode: 86/500 Steps: 10.0\n",
      "Episode: 87/500 Steps: 10.0\n",
      "Episode: 88/500 Steps: 23.0\n",
      "Episode: 89/500 Steps: 11.0\n",
      "Episode: 90/500 Steps: 12.0\n",
      "Episode: 91/500 Steps: 8.0\n",
      "Episode: 92/500 Steps: 10.0\n",
      "Episode: 93/500 Steps: 9.0\n",
      "Episode: 94/500 Steps: 9.0\n",
      "Episode: 95/500 Steps: 10.0\n",
      "Episode: 96/500 Steps: 9.0\n",
      "Episode: 97/500 Steps: 10.0\n",
      "Episode: 98/500 Steps: 12.0\n",
      "Episode: 99/500 Steps: 15.0\n",
      "Episode: 100/500 Steps: 20.0\n",
      "Episode: 101/500 Steps: 14.0\n",
      "Episode: 102/500 Steps: 15.0\n",
      "Episode: 103/500 Steps: 11.0\n",
      "Episode: 104/500 Steps: 13.0\n",
      "Episode: 105/500 Steps: 12.0\n",
      "Episode: 106/500 Steps: 11.0\n",
      "Episode: 107/500 Steps: 21.0\n",
      "Episode: 108/500 Steps: 10.0\n",
      "Episode: 109/500 Steps: 11.0\n",
      "Episode: 110/500 Steps: 8.0\n",
      "Episode: 111/500 Steps: 11.0\n",
      "Episode: 112/500 Steps: 9.0\n",
      "Episode: 113/500 Steps: 10.0\n",
      "Episode: 114/500 Steps: 23.0\n",
      "Episode: 115/500 Steps: 11.0\n",
      "Episode: 116/500 Steps: 10.0\n",
      "Episode: 117/500 Steps: 8.0\n",
      "Episode: 118/500 Steps: 10.0\n",
      "Episode: 119/500 Steps: 9.0\n",
      "Episode: 120/500 Steps: 15.0\n",
      "Episode: 121/500 Steps: 17.0\n",
      "Episode: 122/500 Steps: 17.0\n",
      "Episode: 123/500 Steps: 17.0\n",
      "Episode: 124/500 Steps: 59.0\n",
      "Episode: 125/500 Steps: 15.0\n",
      "Episode: 126/500 Steps: 12.0\n",
      "Episode: 127/500 Steps: 12.0\n",
      "Episode: 128/500 Steps: 12.0\n",
      "Episode: 129/500 Steps: 41.0\n",
      "Episode: 130/500 Steps: 8.0\n",
      "Episode: 131/500 Steps: 10.0\n",
      "Episode: 132/500 Steps: 9.0\n",
      "Episode: 133/500 Steps: 10.0\n",
      "Episode: 134/500 Steps: 11.0\n",
      "Episode: 135/500 Steps: 9.0\n",
      "Episode: 136/500 Steps: 10.0\n",
      "Episode: 137/500 Steps: 11.0\n",
      "Episode: 138/500 Steps: 12.0\n",
      "Episode: 139/500 Steps: 34.0\n",
      "Episode: 140/500 Steps: 32.0\n",
      "Episode: 141/500 Steps: 28.0\n",
      "Episode: 142/500 Steps: 14.0\n",
      "Episode: 143/500 Steps: 12.0\n",
      "Episode: 144/500 Steps: 16.0\n",
      "Episode: 145/500 Steps: 13.0\n",
      "Episode: 146/500 Steps: 30.0\n",
      "Episode: 147/500 Steps: 14.0\n",
      "Episode: 148/500 Steps: 11.0\n",
      "Episode: 149/500 Steps: 81.0\n",
      "Episode: 150/500 Steps: 12.0\n",
      "Episode: 151/500 Steps: 9.0\n",
      "Episode: 152/500 Steps: 11.0\n",
      "Episode: 153/500 Steps: 10.0\n",
      "Episode: 154/500 Steps: 12.0\n",
      "Episode: 155/500 Steps: 10.0\n",
      "Episode: 156/500 Steps: 13.0\n",
      "Episode: 157/500 Steps: 11.0\n",
      "Episode: 158/500 Steps: 9.0\n",
      "Episode: 159/500 Steps: 11.0\n",
      "Episode: 160/500 Steps: 9.0\n",
      "Episode: 161/500 Steps: 16.0\n",
      "Episode: 162/500 Steps: 9.0\n",
      "Episode: 163/500 Steps: 10.0\n",
      "Episode: 164/500 Steps: 8.0\n",
      "Episode: 165/500 Steps: 10.0\n",
      "Episode: 166/500 Steps: 10.0\n",
      "Episode: 167/500 Steps: 11.0\n",
      "Episode: 168/500 Steps: 9.0\n",
      "Episode: 169/500 Steps: 12.0\n",
      "Episode: 170/500 Steps: 14.0\n",
      "Episode: 171/500 Steps: 15.0\n",
      "Episode: 172/500 Steps: 10.0\n",
      "Episode: 173/500 Steps: 10.0\n",
      "Episode: 174/500 Steps: 9.0\n",
      "Episode: 175/500 Steps: 10.0\n",
      "Episode: 176/500 Steps: 13.0\n",
      "Episode: 177/500 Steps: 13.0\n",
      "Episode: 178/500 Steps: 21.0\n",
      "Episode: 179/500 Steps: 74.0\n",
      "Episode: 180/500 Steps: 14.0\n",
      "Episode: 181/500 Steps: 19.0\n",
      "Episode: 182/500 Steps: 49.0\n",
      "Episode: 183/500 Steps: 14.0\n",
      "Episode: 184/500 Steps: 9.0\n",
      "Episode: 185/500 Steps: 9.0\n",
      "Episode: 186/500 Steps: 10.0\n",
      "Episode: 187/500 Steps: 13.0\n",
      "Episode: 188/500 Steps: 14.0\n",
      "Episode: 189/500 Steps: 13.0\n",
      "Episode: 190/500 Steps: 21.0\n",
      "Episode: 191/500 Steps: 27.0\n",
      "Episode: 192/500 Steps: 114.0\n",
      "Episode: 193/500 Steps: 21.0\n",
      "Episode: 194/500 Steps: 18.0\n",
      "Episode: 195/500 Steps: 25.0\n",
      "Episode: 196/500 Steps: 30.0\n",
      "Episode: 197/500 Steps: 43.0\n",
      "Episode: 198/500 Steps: 27.0\n",
      "Episode: 199/500 Steps: 96.0\n",
      "Episode: 200/500 Steps: 74.0\n",
      "Episode: 201/500 Steps: 31.0\n",
      "Episode: 202/500 Steps: 59.0\n",
      "Episode: 203/500 Steps: 37.0\n",
      "Episode: 204/500 Steps: 29.0\n",
      "Episode: 205/500 Steps: 27.0\n",
      "Episode: 206/500 Steps: 42.0\n",
      "Episode: 207/500 Steps: 18.0\n",
      "Episode: 208/500 Steps: 21.0\n",
      "Episode: 209/500 Steps: 11.0\n",
      "Episode: 210/500 Steps: 12.0\n",
      "Episode: 211/500 Steps: 10.0\n",
      "Episode: 212/500 Steps: 13.0\n",
      "Episode: 213/500 Steps: 18.0\n",
      "Episode: 214/500 Steps: 20.0\n",
      "Episode: 215/500 Steps: 14.0\n",
      "Episode: 216/500 Steps: 14.0\n",
      "Episode: 217/500 Steps: 20.0\n",
      "Episode: 218/500 Steps: 39.0\n",
      "Episode: 219/500 Steps: 26.0\n",
      "Episode: 220/500 Steps: 77.0\n",
      "Episode: 221/500 Steps: 12.0\n",
      "Episode: 222/500 Steps: 13.0\n",
      "Episode: 223/500 Steps: 10.0\n",
      "Episode: 224/500 Steps: 11.0\n",
      "Episode: 225/500 Steps: 11.0\n",
      "Episode: 226/500 Steps: 10.0\n",
      "Episode: 227/500 Steps: 10.0\n",
      "Episode: 228/500 Steps: 13.0\n",
      "Episode: 229/500 Steps: 12.0\n",
      "Episode: 230/500 Steps: 10.0\n",
      "Episode: 231/500 Steps: 14.0\n",
      "Episode: 232/500 Steps: 11.0\n",
      "Episode: 233/500 Steps: 14.0\n",
      "Episode: 234/500 Steps: 13.0\n",
      "Episode: 235/500 Steps: 14.0\n",
      "Episode: 236/500 Steps: 15.0\n",
      "Episode: 237/500 Steps: 13.0\n",
      "Episode: 238/500 Steps: 18.0\n",
      "Episode: 239/500 Steps: 20.0\n",
      "Episode: 240/500 Steps: 26.0\n",
      "Episode: 241/500 Steps: 124.0\n",
      "Episode: 242/500 Steps: 21.0\n",
      "Episode: 243/500 Steps: 133.0\n",
      "Episode: 244/500 Steps: 155.0\n",
      "Episode: 245/500 Steps: 209.0\n",
      "Episode: 246/500 Steps: 120.0\n",
      "Episode: 247/500 Steps: 144.0\n",
      "Episode: 248/500 Steps: 10.0\n",
      "Episode: 249/500 Steps: 11.0\n",
      "Episode: 250/500 Steps: 12.0\n",
      "Episode: 251/500 Steps: 15.0\n",
      "Episode: 252/500 Steps: 25.0\n",
      "Episode: 253/500 Steps: 109.0\n",
      "Episode: 254/500 Steps: 20.0\n",
      "Episode: 255/500 Steps: 16.0\n",
      "Episode: 256/500 Steps: 16.0\n",
      "Episode: 257/500 Steps: 12.0\n",
      "Episode: 258/500 Steps: 15.0\n",
      "Episode: 259/500 Steps: 15.0\n",
      "Episode: 260/500 Steps: 23.0\n",
      "Episode: 261/500 Steps: 158.0\n",
      "Episode: 262/500 Steps: 114.0\n",
      "Episode: 263/500 Steps: 118.0\n",
      "Episode: 264/500 Steps: 13.0\n",
      "Episode: 265/500 Steps: 14.0\n",
      "Episode: 266/500 Steps: 10.0\n",
      "Episode: 267/500 Steps: 10.0\n",
      "Episode: 268/500 Steps: 9.0\n",
      "Episode: 269/500 Steps: 11.0\n",
      "Episode: 270/500 Steps: 9.0\n",
      "Episode: 271/500 Steps: 11.0\n",
      "Episode: 272/500 Steps: 12.0\n",
      "Episode: 273/500 Steps: 16.0\n",
      "Episode: 274/500 Steps: 13.0\n",
      "Episode: 275/500 Steps: 15.0\n",
      "Episode: 276/500 Steps: 18.0\n",
      "Episode: 277/500 Steps: 144.0\n",
      "Episode: 278/500 Steps: 198.0\n",
      "Episode: 279/500 Steps: 11.0\n",
      "Episode: 280/500 Steps: 9.0\n",
      "Episode: 281/500 Steps: 8.0\n",
      "Episode: 282/500 Steps: 11.0\n",
      "Episode: 283/500 Steps: 14.0\n",
      "Episode: 284/500 Steps: 12.0\n",
      "Episode: 285/500 Steps: 13.0\n",
      "Episode: 286/500 Steps: 28.0\n",
      "Episode: 287/500 Steps: 85.0\n"
     ]
    },
    {
     "name": "stdout",
     "output_type": "stream",
     "text": [
      "Episode: 288/500 Steps: 234.0\n",
      "Episode: 289/500 Steps: 117.0\n",
      "Episode: 290/500 Steps: 15.0\n",
      "Episode: 291/500 Steps: 12.0\n",
      "Episode: 292/500 Steps: 35.0\n",
      "Episode: 293/500 Steps: 9.0\n",
      "Episode: 294/500 Steps: 12.0\n",
      "Episode: 295/500 Steps: 15.0\n",
      "Episode: 296/500 Steps: 10.0\n",
      "Episode: 297/500 Steps: 9.0\n",
      "Episode: 298/500 Steps: 9.0\n",
      "Episode: 299/500 Steps: 10.0\n",
      "Episode: 300/500 Steps: 10.0\n",
      "Episode: 301/500 Steps: 9.0\n",
      "Episode: 302/500 Steps: 10.0\n",
      "Episode: 303/500 Steps: 9.0\n",
      "Episode: 304/500 Steps: 9.0\n",
      "Episode: 305/500 Steps: 9.0\n",
      "Episode: 306/500 Steps: 11.0\n",
      "Episode: 307/500 Steps: 10.0\n",
      "Episode: 308/500 Steps: 11.0\n",
      "Episode: 309/500 Steps: 9.0\n",
      "Episode: 310/500 Steps: 11.0\n",
      "Episode: 311/500 Steps: 9.0\n",
      "Episode: 312/500 Steps: 9.0\n",
      "Episode: 313/500 Steps: 13.0\n",
      "Episode: 314/500 Steps: 10.0\n",
      "Episode: 315/500 Steps: 8.0\n",
      "Episode: 316/500 Steps: 14.0\n",
      "Episode: 317/500 Steps: 9.0\n",
      "Episode: 318/500 Steps: 11.0\n",
      "Episode: 319/500 Steps: 364.0\n",
      "Episode: 320/500 Steps: 133.0\n",
      "Episode: 321/500 Steps: 74.0\n",
      "Episode: 322/500 Steps: 192.0\n",
      "Episode: 323/500 Steps: 66.0\n",
      "Episode: 324/500 Steps: 178.0\n",
      "Episode: 325/500 Steps: 19.0\n",
      "Episode: 326/500 Steps: 9.0\n",
      "Episode: 327/500 Steps: 15.0\n",
      "Episode: 328/500 Steps: 159.0\n",
      "Episode: 329/500 Steps: 10.0\n",
      "Episode: 330/500 Steps: 15.0\n",
      "Episode: 331/500 Steps: 128.0\n",
      "Episode: 332/500 Steps: 105.0\n",
      "Episode: 333/500 Steps: 89.0\n",
      "Episode: 334/500 Steps: 85.0\n",
      "Episode: 335/500 Steps: 18.0\n",
      "Episode: 336/500 Steps: 112.0\n",
      "Episode: 337/500 Steps: 145.0\n",
      "Episode: 338/500 Steps: 91.0\n",
      "Episode: 339/500 Steps: 11.0\n",
      "Episode: 340/500 Steps: 10.0\n",
      "Episode: 341/500 Steps: 14.0\n",
      "Episode: 342/500 Steps: 78.0\n",
      "Episode: 343/500 Steps: 12.0\n",
      "Episode: 344/500 Steps: 9.0\n",
      "Episode: 345/500 Steps: 23.0\n",
      "Episode: 346/500 Steps: 156.0\n",
      "Episode: 347/500 Steps: 140.0\n",
      "Episode: 348/500 Steps: 243.0\n",
      "Episode: 349/500 Steps: 196.0\n",
      "Episode: 350/500 Steps: 74.0\n",
      "Episode: 351/500 Steps: 49.0\n",
      "Episode: 352/500 Steps: 152.0\n",
      "Episode: 353/500 Steps: 197.0\n",
      "Episode: 354/500 Steps: 242.0\n",
      "Episode: 355/500 Steps: 46.0\n",
      "Episode: 356/500 Steps: 12.0\n",
      "Episode: 357/500 Steps: 10.0\n",
      "Episode: 358/500 Steps: 92.0\n",
      "Episode: 359/500 Steps: 9.0\n",
      "Episode: 360/500 Steps: 9.0\n",
      "Episode: 361/500 Steps: 10.0\n",
      "Episode: 362/500 Steps: 9.0\n",
      "Episode: 363/500 Steps: 9.0\n",
      "Episode: 364/500 Steps: 12.0\n",
      "Episode: 365/500 Steps: 11.0\n",
      "Episode: 366/500 Steps: 11.0\n",
      "Episode: 367/500 Steps: 9.0\n",
      "Episode: 368/500 Steps: 14.0\n",
      "Episode: 369/500 Steps: 149.0\n",
      "Episode: 370/500 Steps: 11.0\n",
      "Episode: 371/500 Steps: 10.0\n",
      "Episode: 372/500 Steps: 175.0\n",
      "Episode: 373/500 Steps: 500.0\n",
      "Episode: 374/500 Steps: 12.0\n",
      "Episode: 375/500 Steps: 50.0\n",
      "Episode: 376/500 Steps: 163.0\n",
      "Episode: 377/500 Steps: 9.0\n",
      "Episode: 378/500 Steps: 8.0\n",
      "Episode: 379/500 Steps: 9.0\n",
      "Episode: 380/500 Steps: 11.0\n",
      "Episode: 381/500 Steps: 16.0\n",
      "Episode: 382/500 Steps: 174.0\n",
      "Episode: 383/500 Steps: 12.0\n",
      "Episode: 384/500 Steps: 140.0\n",
      "Episode: 385/500 Steps: 194.0\n",
      "Episode: 386/500 Steps: 106.0\n",
      "Episode: 387/500 Steps: 113.0\n",
      "Episode: 388/500 Steps: 152.0\n",
      "Episode: 389/500 Steps: 160.0\n",
      "Episode: 390/500 Steps: 244.0\n",
      "Episode: 391/500 Steps: 241.0\n",
      "Episode: 392/500 Steps: 12.0\n",
      "Episode: 393/500 Steps: 165.0\n",
      "Episode: 394/500 Steps: 51.0\n",
      "Episode: 395/500 Steps: 24.0\n",
      "Episode: 396/500 Steps: 57.0\n",
      "Episode: 397/500 Steps: 45.0\n",
      "Episode: 398/500 Steps: 27.0\n",
      "Episode: 399/500 Steps: 29.0\n",
      "Episode: 400/500 Steps: 39.0\n",
      "Episode: 401/500 Steps: 27.0\n",
      "Episode: 402/500 Steps: 19.0\n",
      "Episode: 403/500 Steps: 23.0\n",
      "Episode: 404/500 Steps: 31.0\n",
      "Episode: 405/500 Steps: 23.0\n",
      "Episode: 406/500 Steps: 27.0\n",
      "Episode: 407/500 Steps: 23.0\n",
      "Episode: 408/500 Steps: 28.0\n",
      "Episode: 409/500 Steps: 29.0\n",
      "Episode: 410/500 Steps: 19.0\n",
      "Episode: 411/500 Steps: 29.0\n",
      "Episode: 412/500 Steps: 20.0\n",
      "Episode: 413/500 Steps: 19.0\n",
      "Episode: 414/500 Steps: 22.0\n",
      "Episode: 415/500 Steps: 30.0\n",
      "Episode: 416/500 Steps: 39.0\n",
      "Episode: 417/500 Steps: 24.0\n",
      "Episode: 418/500 Steps: 17.0\n",
      "Episode: 419/500 Steps: 26.0\n",
      "Episode: 420/500 Steps: 21.0\n",
      "Episode: 421/500 Steps: 19.0\n",
      "Episode: 422/500 Steps: 19.0\n",
      "Episode: 423/500 Steps: 18.0\n",
      "Episode: 424/500 Steps: 17.0\n",
      "Episode: 425/500 Steps: 14.0\n",
      "Episode: 426/500 Steps: 246.0\n",
      "Episode: 427/500 Steps: 103.0\n",
      "Episode: 428/500 Steps: 30.0\n",
      "Episode: 429/500 Steps: 21.0\n",
      "Episode: 430/500 Steps: 25.0\n",
      "Episode: 431/500 Steps: 26.0\n",
      "Episode: 432/500 Steps: 79.0\n",
      "Episode: 433/500 Steps: 11.0\n",
      "Episode: 434/500 Steps: 381.0\n",
      "Episode: 435/500 Steps: 12.0\n",
      "Episode: 436/500 Steps: 15.0\n",
      "Episode: 437/500 Steps: 64.0\n",
      "Episode: 438/500 Steps: 11.0\n",
      "Episode: 439/500 Steps: 8.0\n",
      "Episode: 440/500 Steps: 9.0\n",
      "Episode: 441/500 Steps: 10.0\n",
      "Episode: 442/500 Steps: 11.0\n",
      "Episode: 443/500 Steps: 179.0\n",
      "Episode: 444/500 Steps: 177.0\n",
      "Episode: 445/500 Steps: 15.0\n",
      "Episode: 446/500 Steps: 16.0\n",
      "Episode: 447/500 Steps: 20.0\n",
      "Episode: 448/500 Steps: 18.0\n",
      "Episode: 449/500 Steps: 22.0\n",
      "Episode: 450/500 Steps: 20.0\n",
      "Episode: 451/500 Steps: 102.0\n",
      "Episode: 452/500 Steps: 133.0\n",
      "Episode: 453/500 Steps: 26.0\n",
      "Episode: 454/500 Steps: 21.0\n",
      "Episode: 455/500 Steps: 110.0\n",
      "Episode: 456/500 Steps: 221.0\n",
      "Episode: 457/500 Steps: 8.0\n",
      "Episode: 458/500 Steps: 13.0\n",
      "Episode: 459/500 Steps: 9.0\n",
      "Episode: 460/500 Steps: 9.0\n",
      "Episode: 461/500 Steps: 12.0\n",
      "Episode: 462/500 Steps: 16.0\n",
      "Episode: 463/500 Steps: 86.0\n",
      "Episode: 464/500 Steps: 31.0\n",
      "Episode: 465/500 Steps: 13.0\n",
      "Episode: 466/500 Steps: 10.0\n",
      "Episode: 467/500 Steps: 14.0\n",
      "Episode: 468/500 Steps: 17.0\n",
      "Episode: 469/500 Steps: 103.0\n",
      "Episode: 470/500 Steps: 112.0\n",
      "Episode: 471/500 Steps: 126.0\n",
      "Episode: 472/500 Steps: 10.0\n",
      "Episode: 473/500 Steps: 123.0\n",
      "Episode: 474/500 Steps: 20.0\n",
      "Episode: 475/500 Steps: 99.0\n",
      "Episode: 476/500 Steps: 12.0\n",
      "Episode: 477/500 Steps: 9.0\n",
      "Episode: 478/500 Steps: 23.0\n",
      "Episode: 479/500 Steps: 68.0\n",
      "Episode: 480/500 Steps: 35.0\n",
      "Episode: 481/500 Steps: 119.0\n",
      "Episode: 482/500 Steps: 41.0\n",
      "Episode: 483/500 Steps: 9.0\n",
      "Episode: 484/500 Steps: 14.0\n",
      "Episode: 485/500 Steps: 11.0\n",
      "Episode: 486/500 Steps: 12.0\n",
      "Episode: 487/500 Steps: 13.0\n",
      "Episode: 488/500 Steps: 167.0\n",
      "Episode: 489/500 Steps: 76.0\n",
      "Episode: 490/500 Steps: 9.0\n",
      "Episode: 491/500 Steps: 16.0\n",
      "Episode: 492/500 Steps: 28.0\n",
      "Episode: 493/500 Steps: 173.0\n",
      "Episode: 494/500 Steps: 359.0\n",
      "Episode: 495/500 Steps: 141.0\n",
      "Episode: 496/500 Steps: 16.0\n",
      "Episode: 497/500 Steps: 160.0\n",
      "Episode: 498/500 Steps: 13.0\n",
      "Episode: 499/500 Steps: 14.0\n"
     ]
    }
   ],
   "source": [
    "for i in range(num_episodes):\n",
    "    obs=env.reset()\n",
    "    rAll, steps = 0, 0\n",
    "    done = False\n",
    "    while steps < maxsteps:\n",
    "        #if i % 50 == 0:\n",
    "            #env.render()\n",
    "            \n",
    "        action, actionQs = sess.run([predict, layer_out], feed_dict={inputs:obs.reshape(1,INPUTSIZE)})\n",
    "\n",
    "        if np.random.rand(1) < epsilon:\n",
    "            action[0] = env.action_space.sample()\n",
    "            \n",
    "        next_obs,reward,done,_ = env.step(action[0])\n",
    "\n",
    "        evalQ = sess.run(layer_out, feed_dict={inputs:next_obs.reshape(1,INPUTSIZE)})\n",
    "        max_evalQ = np.max(evalQ)\n",
    "        targetQ = actionQs\n",
    "\n",
    "        if done:\n",
    "            targetQ[0,action[0]] = reward\n",
    "        else:\n",
    "            targetQ[0,action[0]] = reward + gamma*max_evalQ\n",
    "\n",
    "        sess.run(updateModel, feed_dict={inputs:obs.reshape(1,INPUTSIZE),rewardQ:targetQ})\n",
    "        obs=next_obs\n",
    "\n",
    "        steps += reward\n",
    "        if done:\n",
    "            rAll += steps\n",
    "            rList.append(rAll)\n",
    "            break;\n",
    "    print \"Episode: {}/{} Steps: {}\".format(i,num_episodes,rAll)"
   ]
  },
  {
   "cell_type": "markdown",
   "metadata": {
    "colab_type": "text",
    "id": "hDD_Cw7b-DA6"
   },
   "source": [
    "Time to create a graph of how we did:"
   ]
  },
  {
   "cell_type": "code",
   "execution_count": 549,
   "metadata": {
    "colab": {
     "autoexec": {
      "startup": false,
      "wait_interval": 0
     }
    },
    "colab_type": "code",
    "id": "0Mvvdwag-DA6"
   },
   "outputs": [
    {
     "name": "stdout",
     "output_type": "stream",
     "text": [
      "Average steps per episode: 37.664 steps\n"
     ]
    },
    {
     "data": {
      "image/png": "[encoded data removed]",
      "text/plain": [
       "<matplotlib.figure.Figure at 0x7f1c8ca24910>"
      ]
     },
     "metadata": {},
     "output_type": "display_data"
    }
   ],
   "source": [
    "print \"Average steps per episode: \" + str(sum(rList)/num_episodes) + \" steps\"\n",
    "plt.plot(rList)\n",
    "plt.show()"
   ]
  },
  {
   "cell_type": "markdown",
   "metadata": {
    "colab_type": "text",
    "id": "5BOaOhe4-DA8"
   },
   "source": [
    "Did it learn? Perhaps did the weights diverge? What happened?\n",
    "\n",
    "Let's test it out on the environment"
   ]
  },
  {
   "cell_type": "code",
   "execution_count": 500,
   "metadata": {
    "colab": {
     "autoexec": {
      "startup": false,
      "wait_interval": 0
     }
    },
    "colab_type": "code",
    "id": "3yT9QOMm-DA9"
   },
   "outputs": [
    {
     "name": "stdout",
     "output_type": "stream",
     "text": [
      "Performed 149.0\n"
     ]
    }
   ],
   "source": [
    "obs=env.reset()\n",
    "steps = 0\n",
    "done = False\n",
    "while steps < maxsteps:\n",
    "    #env.render()\n",
    "\n",
    "    actions = sess.run(predict, feed_dict={inputs:obs.reshape(1,INPUTSIZE)})\n",
    "    obs,reward,done,_ = env.step(actions[0])\n",
    "    if done:\n",
    "        print(\"Performed \"+str(steps))\n",
    "        break\n",
    "    steps += reward"
   ]
  },
  {
   "cell_type": "markdown",
   "metadata": {
    "colab_type": "text",
    "id": "AO1oOMnx-DA-"
   },
   "source": [
    "We are now done with the environment. Let's close the session."
   ]
  },
  {
   "cell_type": "code",
   "execution_count": 368,
   "metadata": {
    "colab": {
     "autoexec": {
      "startup": false,
      "wait_interval": 0
     }
    },
    "colab_type": "code",
    "id": "-MDRqR5f-DA_"
   },
   "outputs": [],
   "source": [
    "sess.close()"
   ]
  },
  {
   "cell_type": "markdown",
   "metadata": {
    "colab_type": "text",
    "id": "Bo4bR6QB-DA_"
   },
   "source": [
    "Now you've created your (maybe first) neural network!\n",
    "\n",
    "Where can we go from here?<br>\n",
    "Keras for DQN: https://keon.io/deep-q-learning/ <br>\n",
    "Convolutional Neural Networks: http://cs231n.github.io/convolutional-networks/ <br>\n",
    "Long-Short Term Memory (LSTMs): http://colah.github.io/posts/2015-08-Understanding-LSTMs/ <br>\n",
    "Deep Learning Specialization: https://www.coursera.org/specializations/deep-learning<br>\n",
    "Loss functions in NNs: https://isaacchanghau.github.io/2017/06/07/Loss-Functions-in-Artificial-Neural-Networks/"
   ]
  }
 ],
 "metadata": {
  "accelerator": "GPU",
  "colab": {
   "collapsed_sections": [],
   "default_view": {},
   "name": "Workshop_3_Neural_Networks.ipynb",
   "provenance": [],
   "version": "0.3.2",
   "views": {}
  },
  "kernelspec": {
   "display_name": "Python 2",
   "language": "python",
   "name": "python2"
  },
  "language_info": {
   "codemirror_mode": {
    "name": "ipython",
    "version": 2
   },
   "file_extension": ".py",
   "mimetype": "text/x-python",
   "name": "python",
   "nbconvert_exporter": "python",
   "pygments_lexer": "ipython2",
   "version": "2.7.12"
  }
 },
 "nbformat": 4,
 "nbformat_minor": 1
}
